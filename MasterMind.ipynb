{
 "cells": [
  {
   "cell_type": "code",
   "execution_count": null,
   "metadata": {},
   "outputs": [
    {
     "name": "stdout",
     "output_type": "stream",
     "text": [
      "Bienvenido/a al Mastermind!\n",
      "Tienes que adivinar un numero de 4 cifras distintas\n",
      "¿Que codigo propones?: 2468\n",
      "Tu propuesta ( 2468 ) tiene 0 aciertos y  1 coincidencias.\n",
      "Propón otro codigo: 1356\n",
      "Tu propuesta ( 1356 ) tiene 0 aciertos y  2 coincidencias.\n",
      "Propón otro codigo: 6790\n",
      "Tu propuesta ( 6790 ) tiene 0 aciertos y  1 coincidencias.\n"
     ]
    }
   ],
   "source": [
    "import random\n",
    "\n",
    "# el conjunto de simbolos validos en el codigo\n",
    "digitos = ('0','1','2','3','4','5','6','7','8','9')\n",
    "\n",
    "# \"elegimos\" el codigo\n",
    "codigo = ''\n",
    "for i in range(4):\n",
    "    candidato = random.choice(digitos)\n",
    "    # vamos eligiendo digitos no repetidos*\n",
    "    while candidato in codigo:\n",
    "        candidato = random.choice(digitos)\n",
    "    codigo = codigo + candidato\n",
    "\n",
    "# iniciamos interaccion con el usuario*\n",
    "print (\"Bienvenido/a al Mastermind!\")\n",
    "print (\"Tienes que adivinar un numero de\", 4, \"cifras distintas\")\n",
    "propuesta = (input(\"¿Que codigo propones?: \"))\n",
    "\n",
    "# procesamos las propuestas e indicamos aciertos y coincidencias\n",
    "intentos = 1\n",
    "while propuesta != codigo:\n",
    "    intentos = intentos + 1\n",
    "    aciertos = 0\n",
    "    coincidencias = 0\n",
    "\n",
    "    # recorremos la propuesta y verificamos en el codigo\n",
    "    for i in range(4):\n",
    "        if propuesta[i] == codigo[i]:\n",
    "            aciertos = aciertos + 1\n",
    "        elif propuesta[i] in codigo:\n",
    "            coincidencias = coincidencias + 1\n",
    "    print (\"Tu propuesta (\", propuesta, \") tiene\", aciertos, \\\n",
    "          \"aciertos y \", coincidencias, \"coincidencias.\")\n",
    "    # pedimos siguiente propuesta*\n",
    "    propuesta = (input(\"Propón otro codigo: \"))\n",
    "\n",
    "print (\"Felicitaciones! Adivinaste el codigo en\", intentos, \"intentos.\")"
   ]
  },
  {
   "cell_type": "code",
   "execution_count": null,
   "metadata": {},
   "outputs": [],
   "source": []
  }
 ],
 "metadata": {
  "kernelspec": {
   "display_name": "Python 3",
   "language": "python",
   "name": "python3"
  },
  "language_info": {
   "codemirror_mode": {
    "name": "ipython",
    "version": 3
   },
   "file_extension": ".py",
   "mimetype": "text/x-python",
   "name": "python",
   "nbconvert_exporter": "python",
   "pygments_lexer": "ipython3",
   "version": "3.8.5"
  }
 },
 "nbformat": 4,
 "nbformat_minor": 4
}
